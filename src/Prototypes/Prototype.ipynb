{
 "cells": [
  {
   "cell_type": "markdown",
   "metadata": {
    "dotnet_interactive": {
     "language": "fsharp"
    }
   },
   "source": [
    "# TraceLog.SQL"
   ]
  },
  {
   "cell_type": "markdown",
   "metadata": {},
   "source": [
    "## Domain"
   ]
  },
  {
   "cell_type": "code",
   "execution_count": null,
   "metadata": {
    "dotnet_interactive": {
     "language": "fsharp"
    }
   },
   "outputs": [],
   "source": [
    "type SelectCommand = seq<Conditioner>\n",
    "and FromCommand    = string\n",
    "and WhereCommand   = seq<Conditioner> \n",
    "and Query = \n",
    "    { Select : SelectCommand \n",
    "      From   : FromCommand \n",
    "      Where  : WhereCommand }\n",
    "and Condition = \n",
    "    {  Conditioner      : Conditioner\n",
    "       ConditionType    : ConditionType\n",
    "       ConditionalValue : ConditionalValue }\n",
    "and Conditioner = \n",
    "    | EventProperty of ConditionerEventProperty\n",
    "    | ReservedWord  of ReservedWord \n",
    "and ConditionerEventProperty = \n",
    "    { ConditionerEvent    : ConditionerEvent \n",
    "      ConditionerProperty : ConditionerProperty }\n",
    "and ConditionerEvent    = string\n",
    "and ConditionerProperty = string\n",
    "and ConditionType = \n",
    "    | LessThan\n",
    "    | LessThanEqualTo\n",
    "    | GreaterThan\n",
    "    | GreaterThanEqualTo\n",
    "    | Equal\n",
    "    | NotEqual\n",
    "and ConditionalValue =\n",
    "    | DoubleValue of double\n",
    "    | StringValue of string\n",
    "and ReservedWord = \n",
    "    | ProcessName   of string\n",
    "    | ProcessID     of int\n",
    "    | ThreadID      of int\n",
    "    | ProcessNumber of int\n",
    "    | ID            of string\n",
    "    | ClrID         of string\n",
    "\n",
    "let ReservedWords : Set<string> = \n",
    "    [ \"ProcessName\"; \"ProcessID\"; \"ThreadID\"; \"HasStack\"; \"ProcessNumber\"; \"ID\"; \"ClrID\" ]\n",
    "    |> Set.ofList"
   ]
  },
  {
   "cell_type": "markdown",
   "metadata": {
    "dotnet_interactive": {
     "language": "fsharp"
    }
   },
   "source": [
    "Example of Query:\n",
    "\n",
    "```\n",
    "    SELECT GC/AllocationTick.AllocationAmount, GC/HeapStats.Generation0, ProcessName, ThreadId FROM <FilePath> \n",
    "   WHERE ProcessName = devenv and \n",
    "         ProcessId   = 10     and \n",
    "         GC/AllocationTick.AllocationAmount >= 5000\n",
    "    ORDER BY Timestamp \n",
    "```\n",
    "\n",
    "Or more generally:\n",
    "\n",
    "```\n",
    "   SELECT ColumnNames FROM TracePath\n",
    "   WHERE Condition1 and \n",
    "         Condition2 and\n",
    "         Condition3 ... \n",
    "    ORDER BY OrderingList // By default, Timestamp.\n",
    "```\n",
    "\n",
    "Reserved Columns:\n",
    "\n",
    "1. ProcessName\n",
    "2. ProcessID\n",
    "3. ThreadID\n",
    "4. HasStack\n",
    "5. ProcessNumber\n",
    "6. ID\n",
    "7. ClrID\n",
    "8. TimeStamp\n",
    "9. TimeStampRelativeMSec"
   ]
  },
  {
   "cell_type": "code",
   "execution_count": null,
   "metadata": {
    "dotnet_interactive": {
     "language": "fsharp"
    }
   },
   "outputs": [
    {
     "data": {
      "text/html": [
       "<div><div></div><div></div><div><strong>Installed Packages</strong><ul><li><span>Microsoft.Diagnostics.Tracing.TraceEvent, 2.0.74</span></li></ul></div></div>"
      ]
     },
     "metadata": {},
     "output_type": "display_data"
    },
    {
     "data": {
      "text/html": [
       "<table><thead><tr><th><i>index</i></th><th><i>type</i></th><th>BufferSize</th><th>Version</th><th>ProviderVersion</th><th>NumberOfProcessors</th><th>EndTime</th><th>TimerResolution</th><th>MaxFileSize</th><th>LogFileMode</th><th>BuffersWritten</th><th>StartBuffers</th><th>PointerSize</th><th>EventsLost</th><th>CPUSpeed</th><th>UTCOffsetMinutes</th><th>BootTime</th><th>PerfFreq</th><th>StartTime</th><th>ReservedFlags</th><th>BuffersLost</th><th>SessionName</th><th>..</th></tr></thead><tbody><tr><td>0</td><td><span><a href=\"https://docs.microsoft.com/dotnet/api/microsoft.diagnostics.tracing.parsers.kernel.eventtraceheadertracedata?view=net-5.0\">Microsoft.Diagnostics.Tracing.Parsers.Kernel.EventTraceHeaderTraceData</a></span></td><td><div class=\"dni-plaintext\">65536</div></td><td><div class=\"dni-plaintext\">131082</div></td><td><div class=\"dni-plaintext\">22000</div></td><td><div class=\"dni-plaintext\">8</div></td><td><span>2021-12-04 08:15:21Z</span></td><td><div class=\"dni-plaintext\">156250</div></td><td><div class=\"dni-plaintext\">800</div></td><td><div class=\"dni-plaintext\">67174401</div></td><td><div class=\"dni-plaintext\">5592</div></td><td><div class=\"dni-plaintext\">1</div></td><td><div class=\"dni-plaintext\">8</div></td><td><div class=\"dni-plaintext\">0</div></td><td><div class=\"dni-plaintext\">2803</div></td><td><div class=\"dni-plaintext\">480</div></td><td><span>2021-12-04 07:47:01Z</span></td><td><div class=\"dni-plaintext\">10000000</div></td><td><span>2021-12-04 08:14:46Z</span></td><td><div class=\"dni-plaintext\">1</div></td><td><div class=\"dni-plaintext\">0</div></td><td>Relogger</td></tr><tr><td>1</td><td><span><a href=\"https://docs.microsoft.com/dotnet/api/microsoft.diagnostics.tracing.parsers.dynamictraceeventdata?view=net-5.0\">Microsoft.Diagnostics.Tracing.Parsers.DynamicTraceEventData</a></span></td><td></td><td><div class=\"dni-plaintext\">2</div></td><td></td><td></td><td></td><td></td><td></td><td></td><td></td><td></td><td><div class=\"dni-plaintext\">8</div></td><td></td><td></td><td></td><td></td><td></td><td></td><td></td><td></td><td></td></tr><tr><td>2</td><td><span><a href=\"https://docs.microsoft.com/dotnet/api/microsoft.diagnostics.tracing.parsers.kernel.headerextensiontracedata?view=net-5.0\">Microsoft.Diagnostics.Tracing.Parsers.Kernel.HeaderExtensionTraceData</a></span></td><td></td><td><div class=\"dni-plaintext\">2</div></td><td></td><td></td><td></td><td></td><td></td><td></td><td></td><td></td><td><div class=\"dni-plaintext\">8</div></td><td></td><td></td><td></td><td></td><td></td><td></td><td></td><td></td><td></td></tr><tr><td>3</td><td><span><a href=\"https://docs.microsoft.com/dotnet/api/microsoft.diagnostics.tracing.parsers.dynamictraceeventdata?view=net-5.0\">Microsoft.Diagnostics.Tracing.Parsers.DynamicTraceEventData</a></span></td><td></td><td><div class=\"dni-plaintext\">2</div></td><td></td><td></td><td></td><td></td><td></td><td></td><td></td><td></td><td><div class=\"dni-plaintext\">8</div></td><td></td><td></td><td></td><td></td><td></td><td></td><td></td><td></td><td></td></tr><tr><td>4</td><td><span><a href=\"https://docs.microsoft.com/dotnet/api/microsoft.diagnostics.tracing.parsers.kernel.systempathstracedata?view=net-5.0\">Microsoft.Diagnostics.Tracing.Parsers.Kernel.SystemPathsTraceData</a></span></td><td></td><td><div class=\"dni-plaintext\">0</div></td><td></td><td></td><td></td><td></td><td></td><td></td><td></td><td></td><td><div class=\"dni-plaintext\">8</div></td><td></td><td></td><td></td><td></td><td></td><td></td><td></td><td></td><td></td></tr></tbody></table>"
      ]
     },
     "metadata": {},
     "output_type": "display_data"
    }
   ],
   "source": [
    "#r \"nuget:Microsoft.Diagnostics.Tracing.TraceEvent\"\n",
    "\n",
    "open Microsoft.Diagnostics.Tracing;\n",
    "open Microsoft.Diagnostics.Tracing.Etlx;\n",
    "open Microsoft.Diagnostics.Tracing.Session;\n",
    "open Microsoft.Diagnostics.Tracing.Parsers.Clr;\n",
    "\n",
    "let ETL_FILEPATH = @\"C:\\Users\\mukun\\OneDrive\\Documents\\CallstackShmuff.etl\\CallstackShmuff.etl\"\n",
    "\n",
    "let traceLog = TraceLog.OpenOrConvert ETL_FILEPATH\n",
    "traceLog.Events\n",
    "|> Seq.take 5"
   ]
  },
  {
   "cell_type": "markdown",
   "metadata": {},
   "source": [
    "## Parsing Conditions"
   ]
  },
  {
   "cell_type": "markdown",
   "metadata": {},
   "source": [
    "### Splitting Multiple Conditions"
   ]
  },
  {
   "cell_type": "code",
   "execution_count": null,
   "metadata": {
    "dotnet_interactive": {
     "language": "fsharp"
    }
   },
   "outputs": [
    {
     "data": {
      "text/html": [
       "<table><thead><tr><th><i>index</i></th><th>value</th></tr></thead><tbody><tr><td>0</td><td>GC/AllocationTick.AllocationAmount &gt; 20000 </td></tr><tr><td>1</td><td> ProcessName = &quot;devenv&quot;</td></tr></tbody></table>"
      ]
     },
     "metadata": {},
     "output_type": "display_data"
    }
   ],
   "source": [
    "let conditions = \"GC/AllocationTick.AllocationAmount > 20000 and ProcessName = \\\"devenv\\\"\"\n",
    "let splitConditions : string[] = conditions.Split(\"and\", StringSplitOptions.RemoveEmptyEntries)\n",
    "splitConditions"
   ]
  },
  {
   "cell_type": "markdown",
   "metadata": {
    "dotnet_interactive": {
     "language": "fsharp"
    }
   },
   "source": [
    "#### Parsing The Conditioner\n",
    "\n",
    "2 types:\n",
    "\n",
    "- GC/AllocationTick.AllocationAmount > 20000\n",
    "- ProcessName = \"devenv\""
   ]
  },
  {
   "cell_type": "markdown",
   "metadata": {
    "dotnet_interactive": {
     "language": "fsharp"
    }
   },
   "source": [
    "### Split Full Condition "
   ]
  },
  {
   "cell_type": "code",
   "execution_count": null,
   "metadata": {
    "dotnet_interactive": {
     "language": "fsharp"
    }
   },
   "outputs": [
    {
     "data": {
      "text/html": [
       "<table><thead><tr><th><i>index</i></th><th>value</th></tr></thead><tbody><tr><td>0</td><td>ProcessName</td></tr><tr><td>1</td><td>=</td></tr><tr><td>2</td><td>&quot;devenv&quot;</td></tr></tbody></table>"
      ]
     },
     "metadata": {},
     "output_type": "display_data"
    }
   ],
   "source": [
    "let condition1 = \"GC/AllocationTick.AllocationAmount > 20000\"\n",
    "let s = condition1.Split(\" \", StringSplitOptions.RemoveEmptyEntries)\n",
    "let f  = s.[0]\n",
    "let cc = s.[1]\n",
    "let v  = s.[2]\n",
    "\n",
    "// precondition: check if there are 3 \n",
    "let condition2 = \"ProcessName = \\\"devenv\\\"\"\n",
    "let condition2WithoutQuotes = condition2.Replace(\"\\\"\", \"\")\n",
    "let s2  = condition2.Split(\" \", StringSplitOptions.RemoveEmptyEntries)\n",
    "let f2  = s2.[0]\n",
    "let cc2 = s2.[1]\n",
    "let v2  = s2.[2]\n",
    "\n",
    "s2"
   ]
  },
  {
   "cell_type": "markdown",
   "metadata": {
    "dotnet_interactive": {
     "language": "fsharp"
    }
   },
   "source": [
    "### Split For Conditioner"
   ]
  },
  {
   "cell_type": "markdown",
   "metadata": {},
   "source": [
    "#### Reserved Keyword"
   ]
  },
  {
   "cell_type": "code",
   "execution_count": null,
   "metadata": {
    "dotnet_interactive": {
     "language": "fsharp"
    }
   },
   "outputs": [
    {
     "data": {
      "text/html": [
       "<table><thead><tr><th>Item</th></tr></thead><tbody><tr><td><div class=\"dni-plaintext\">{ ProcessName &quot;ProcessName&quot;: Item: ProcessName }</div></td></tr></tbody></table>"
      ]
     },
     "metadata": {},
     "output_type": "display_data"
    },
    {
     "ename": "Error",
     "evalue": "System.ArgumentException: Non Reserved Word given (Parameter 'GC/AllocationTick.AllocationAmount')\r\n   at FSI_0014.parseReservedKeyword(String secondSplit)\r\n   at <StartupCode$FSI_0014>.$FSI_0014.main@()",
     "output_type": "error",
     "traceback": [
      "System.ArgumentException: Non Reserved Word given (Parameter 'GC/AllocationTick.AllocationAmount')\r\n",
      "   at FSI_0014.parseReservedKeyword(String secondSplit)\r\n",
      "   at <StartupCode$FSI_0014>.$FSI_0014.main@()"
     ]
    }
   ],
   "source": [
    "let parseReservedKeyword (secondSplit : string) : Conditioner =\n",
    "    match (ReservedWords.Contains secondSplit) with\n",
    "    | true  -> \n",
    "        match secondSplit with \n",
    "            | \"ProcessName\"   -> Conditioner.ReservedWord( ProcessName f2 )\n",
    "            | \"ProcessID\"     -> Conditioner.ReservedWord( ProcessID (int (f2)) )\n",
    "            | \"ThreadID\"      -> Conditioner.ReservedWord( ThreadID (int (f2)) )\n",
    "            | \"ProcessNumber\" -> Conditioner.ReservedWord( ProcessNumber (int (f2)))\n",
    "            | \"ID\"            -> Conditioner.ReservedWord( ID f2 )\n",
    "            | \"ClrID\"         -> Conditioner.ReservedWord( ClrID f2 )\n",
    "    | false ->\n",
    "        invalidArg secondSplit \"Non Reserved Word given\"\n",
    "\n",
    "display(parseReservedKeyword f2)\n",
    "display(parseReservedKeyword \"GC/AllocationTick.AllocationAmount\")"
   ]
  },
  {
   "cell_type": "markdown",
   "metadata": {
    "dotnet_interactive": {
     "language": "fsharp"
    }
   },
   "source": [
    "#### Event Property and Keyword"
   ]
  },
  {
   "cell_type": "code",
   "execution_count": null,
   "metadata": {
    "dotnet_interactive": {
     "language": "fsharp"
    }
   },
   "outputs": [
    {
     "data": {
      "text/html": [
       "<table><thead><tr><th>Item</th></tr></thead><tbody><tr><td><div class=\"dni-plaintext\">{ { ConditionerEvent = &quot;GC/AllocationTick&quot;\n",
       "  ConditionerProperty = &quot;AllocationAmount&quot; }: ConditionerEvent: GC/AllocationTick, ConditionerProperty: AllocationAmount }</div></td></tr></tbody></table>"
      ]
     },
     "metadata": {},
     "output_type": "display_data"
    },
    {
     "ename": "Error",
     "evalue": "System.ArgumentException: Reserved Word given (Parameter 'ProcessName')\r\n   at FSI_0018.parseConditionerEventProperty(String secondSplit)\r\n   at <StartupCode$FSI_0018>.$FSI_0018.main@()",
     "output_type": "error",
     "traceback": [
      "System.ArgumentException: Reserved Word given (Parameter 'ProcessName')\r\n",
      "   at FSI_0018.parseConditionerEventProperty(String secondSplit)\r\n",
      "   at <StartupCode$FSI_0018>.$FSI_0018.main@()"
     ]
    }
   ],
   "source": [
    "let parseConditionerEventProperty(secondSplit : string) : Conditioner =\n",
    "    match (ReservedWords.Contains secondSplit) with\n",
    "    | false -> \n",
    "        let splitEventAndProperty = secondSplit.Split(\".\", StringSplitOptions.RemoveEmptyEntries) \n",
    "        if splitEventAndProperty.Length < 2 then\n",
    "            invalidArg secondSplit \"The argument is neither a reserved keyword nor a properly formatted trace event and property; the format if the latter should be: EventName.Property\"\n",
    "        else\n",
    "            Conditioner.EventProperty{ ConditionerEvent =  splitEventAndProperty.[0]; ConditionerProperty = splitEventAndProperty.[1] }\n",
    "    | true ->\n",
    "        invalidArg secondSplit \"Reserved Word given\"\n",
    "\n",
    "display(parseConditionerEventProperty \"GC/AllocationTick.AllocationAmount\")\n",
    "display(parseConditionerEventProperty f2)"
   ]
  },
  {
   "cell_type": "markdown",
   "metadata": {
    "dotnet_interactive": {
     "language": "fsharp"
    }
   },
   "source": [
    "#### Combining Reserved Keyword and Event Property "
   ]
  },
  {
   "cell_type": "code",
   "execution_count": null,
   "metadata": {
    "dotnet_interactive": {
     "language": "fsharp"
    }
   },
   "outputs": [],
   "source": [
    "let parseConditioner (conditionerAsString: string) : Conditioner = \n",
    "    match (ReservedWords.Contains conditionerAsString) with\n",
    "    | true ->\n",
    "        match conditionerAsString with \n",
    "            | \"ProcessName\"   -> Conditioner.ReservedWord( ProcessName f2 )\n",
    "            | \"ProcessID\"     -> Conditioner.ReservedWord( ProcessID (int (f2)) )\n",
    "            | \"ThreadID\"      -> Conditioner.ReservedWord( ThreadID (int (f2)) )\n",
    "            | \"ProcessNumber\" -> Conditioner.ReservedWord( ProcessNumber (int (f2)))\n",
    "            | \"ID\"            -> Conditioner.ReservedWord( ID f2 )\n",
    "            | \"ClrID\"         -> Conditioner.ReservedWord( ClrID f2 )\n",
    "    | false -> \n",
    "        let splitEventAndProperty = conditionerAsString.Split(\".\", StringSplitOptions.RemoveEmptyEntries) \n",
    "        if splitEventAndProperty.Length < 2 then\n",
    "            invalidArg conditionerAsString \"The argument is neither a reserved keyword nor a properly formatted trace event and property; the format if the latter should be: EventName.Property\"\n",
    "        else\n",
    "            Conditioner.EventProperty{ ConditionerEvent =  splitEventAndProperty.[0]; ConditionerProperty = splitEventAndProperty.[1] }"
   ]
  },
  {
   "cell_type": "code",
   "execution_count": null,
   "metadata": {
    "dotnet_interactive": {
     "language": "fsharp"
    }
   },
   "outputs": [
    {
     "data": {
      "text/html": [
       "<table><thead><tr><th>Item</th></tr></thead><tbody><tr><td><div class=\"dni-plaintext\">{ { ConditionerEvent = &quot;GC/AllocationTick&quot;\n",
       "  ConditionerProperty = &quot;AllocationAmount&quot; }: ConditionerEvent: GC/AllocationTick, ConditionerProperty: AllocationAmount }</div></td></tr></tbody></table>"
      ]
     },
     "metadata": {},
     "output_type": "display_data"
    },
    {
     "data": {
      "text/html": [
       "<table><thead><tr><th>Item</th></tr></thead><tbody><tr><td><div class=\"dni-plaintext\">{ ProcessName &quot;ProcessName&quot;: Item: ProcessName }</div></td></tr></tbody></table>"
      ]
     },
     "metadata": {},
     "output_type": "display_data"
    }
   ],
   "source": [
    "let condition1   = \"GC/AllocationTick.AllocationAmount > 20000\"\n",
    "let conditioner1 = condition1.Split(\" \", StringSplitOptions.RemoveEmptyEntries)[0]\n",
    "display(parseConditioner conditioner1)\n",
    "\n",
    "let condition2   = \"ProcessName = \\\"devenv\\\"\"\n",
    "let conditioner2 = condition2.Split(\" \", StringSplitOptions.RemoveEmptyEntries)[0]\n",
    "display(parseConditioner conditioner2)"
   ]
  },
  {
   "cell_type": "markdown",
   "metadata": {
    "dotnet_interactive": {
     "language": "fsharp"
    }
   },
   "source": [
    "### Condition Parser"
   ]
  },
  {
   "cell_type": "code",
   "execution_count": null,
   "metadata": {
    "dotnet_interactive": {
     "language": "fsharp"
    }
   },
   "outputs": [],
   "source": [
    "let parseCondition (conditionAsString : string) : Condition =  \n",
    "\n",
    "    let splitCondition = conditionAsString.Split(\" \", StringSplitOptions.RemoveEmptyEntries) \n",
    "\n",
    "    // Conditioner\n",
    "    let parseConditioner : Conditioner = \n",
    "        let conditionerAsString = splitCondition.[0] \n",
    "        match (ReservedWords.Contains conditionerAsString) with\n",
    "        | true ->\n",
    "            match conditionerAsString with \n",
    "                | \"ProcessName\"   -> Conditioner.ReservedWord( ProcessName f2 )\n",
    "                | \"ProcessID\"     -> Conditioner.ReservedWord( ProcessID (int (f2)) )\n",
    "                | \"ThreadID\"      -> Conditioner.ReservedWord( ThreadID (int (f2)) )\n",
    "                | \"ProcessNumber\" -> Conditioner.ReservedWord( ProcessNumber (int (f2)))\n",
    "                | \"ID\"            -> Conditioner.ReservedWord( ID f2 )\n",
    "                | \"ClrID\"         -> Conditioner.ReservedWord( ClrID f2 )\n",
    "        | false -> \n",
    "            let splitEventAndProperty = conditionerAsString.Split(\".\", StringSplitOptions.RemoveEmptyEntries) \n",
    "            if splitEventAndProperty.Length < 2 then\n",
    "                invalidArg conditionerAsString \"The argument is neither a reserved keyword nor a properly formatted trace event and property; the format if the latter should be: EventName.Property\"\n",
    "            else\n",
    "                Conditioner.EventProperty{ ConditionerEvent =  splitEventAndProperty.[0]; ConditionerProperty = splitEventAndProperty.[1] }\n",
    "\n",
    "    // Condition Type\n",
    "    let parseConditionType : ConditionType =\n",
    "        match splitCondition.[1].ToLower() with\n",
    "        | \">\"  | \"greaterthan\"                                 -> ConditionType.GreaterThan \n",
    "        | \"<\"  | \"lessthan\"                                    -> ConditionType.LessThan\n",
    "        | \">=\" | \"greaterthanequalto\" | \"greaterthanorequalto\" -> ConditionType.GreaterThanEqualTo\n",
    "        | \"<=\" | \"lessthanequalto\"    | \"lessthanorequalto\"    -> ConditionType.LessThanEqualTo\n",
    "        | \"=\"  | \"equal\"              | \"equals\"               -> ConditionType.Equal\n",
    "        | \"!=\" | \"notequal\"                                    -> ConditionType.NotEqual\n",
    "        | _                                                    -> invalidArg (nameof splitCondition) (\"${splitCondition.[1]} is an unrecognized condition type.\")\n",
    "\n",
    "    // Condition Value\n",
    "    let parseConditionValue : ConditionalValue =\n",
    "        let conditionalValueAsString = splitCondition.[2].ToLower()\n",
    "        let checkDouble, doubleValue = Double.TryParse conditionalValueAsString \n",
    "        match checkDouble, doubleValue with\n",
    "        | true, v  -> ConditionalValue.DoubleValue(v)\n",
    "        | false, v -> ConditionalValue.StringValue(conditionalValueAsString.Replace(\"'\", \"\"))\n",
    "\n",
    "    { Conditioner = parseConditioner; ConditionType = parseConditionType; ConditionalValue = parseConditionValue }\n",
    "        \n",
    "let parseConditions (conditionAsString : string) : seq<Condition> = \n",
    "    let splitCondition : string[] = conditionAsString.Split(\"AND\", StringSplitOptions.RemoveEmptyEntries)\n",
    "\n",
    "    // TODO: Add NOT / OR Logic.\n",
    "    (*\n",
    "    let rec matchConditions (runningConditions : seq<Condition>) (remaining : string[]) =\n",
    "        match conditionAsString with\n",
    "        | x     :: xs ->  \n",
    "        | x :: \"AND\" :: xs -> \n",
    "            seq\n",
    "        | x :: \"OR\" :: xs  ->\n",
    "        | []          -> runningConditions\n",
    "    *)\n",
    "\n",
    "    splitCondition\n",
    "    |> Seq.map(parseCondition)"
   ]
  },
  {
   "cell_type": "markdown",
   "metadata": {
    "dotnet_interactive": {
     "language": "fsharp"
    }
   },
   "source": [
    "### Tests"
   ]
  },
  {
   "cell_type": "markdown",
   "metadata": {},
   "source": [
    "#### Parse Condition"
   ]
  },
  {
   "cell_type": "code",
   "execution_count": null,
   "metadata": {
    "dotnet_interactive": {
     "language": "fsharp"
    }
   },
   "outputs": [],
   "source": [
    "let parseCondition1 = \"GC/AllocationTick.AllocationAmount > 20000\"\n",
    "display(parseCondition parseCondition1)\n",
    "\n",
    "let parseCondition2 = \"ProcessName = 'devenv'\"\n",
    "display(parseCondition parseCondition2)"
   ]
  },
  {
   "cell_type": "markdown",
   "metadata": {},
   "source": [
    "#### Parse Conditions"
   ]
  },
  {
   "cell_type": "code",
   "execution_count": null,
   "metadata": {
    "dotnet_interactive": {
     "language": "fsharp"
    }
   },
   "outputs": [
    {
     "data": {
      "text/html": [
       "<table><thead><tr><th><i>index</i></th><th>Conditioner</th><th>ConditionType</th><th>ConditionalValue</th></tr></thead><tbody><tr><td>0</td><td><table><thead><tr><th>Item</th></tr></thead><tbody><tr><td><div class=\"dni-plaintext\">{ { ConditionerEvent = &quot;GC/AllocationTick&quot;\n",
       "  ConditionerProperty = &quot;AllocationAmount&quot; }: ConditionerEvent: GC/AllocationTick, ConditionerProperty: AllocationAmount }</div></td></tr></tbody></table></td><td><div class=\"dni-plaintext\">GreaterThan</div></td><td><table><thead><tr><th>Item</th></tr></thead><tbody><tr><td><div class=\"dni-plaintext\">20000</div></td></tr></tbody></table></td></tr><tr><td>1</td><td><table><thead><tr><th>Item</th></tr></thead><tbody><tr><td><div class=\"dni-plaintext\">{ ProcessName &quot;ProcessName&quot;: Item: ProcessName }</div></td></tr></tbody></table></td><td><div class=\"dni-plaintext\">Equal</div></td><td><table><thead><tr><th>Item</th></tr></thead><tbody><tr><td><div class=\"dni-plaintext\">devenv</div></td></tr></tbody></table></td></tr></tbody></table>"
      ]
     },
     "metadata": {},
     "output_type": "display_data"
    }
   ],
   "source": [
    "let parseConditions1 = \"GC/AllocationTick.AllocationAmount > 20000 AND ProcessName = 'devenv'\"\n",
    "display(parseConditions parseConditions1)"
   ]
  },
  {
   "cell_type": "markdown",
   "metadata": {
    "dotnet_interactive": {
     "language": "fsharp"
    }
   },
   "source": [
    "## Parsing Trace Log Location"
   ]
  },
  {
   "cell_type": "code",
   "execution_count": null,
   "metadata": {
    "dotnet_interactive": {
     "language": "fsharp"
    }
   },
   "outputs": [],
   "source": [
    "let parseTraceLocation (query : string) : FromCommand = \n",
    "    let splitTraceLog = query.Split(\" \", StringSplitOptions.RemoveEmptyEntries ||| StringSplitOptions.TrimEntries)\n",
    "    let idxOfFrom : int = \n",
    "        splitTraceLog\n",
    "        |> Array.findIndex(fun s -> ( s.ToLower() = \"from\" ))\n",
    "\n",
    "    let error = \"Specify the the trace location using FROM i.e. Select * FROM <TracePath>\"\n",
    "    // FROM not found => error.\n",
    "    if idxOfFrom = -1 then invalidArg query error\n",
    "    // TraceLogPath not in the query => error.\n",
    "    elif idxOfFrom + 1 = splitTraceLog.Length then invalidArg query error\n",
    "    else\n",
    "        splitTraceLog.[idxOfFrom + 1]"
   ]
  },
  {
   "cell_type": "code",
   "execution_count": null,
   "metadata": {
    "dotnet_interactive": {
     "language": "fsharp"
    }
   },
   "outputs": [
    {
     "data": {
      "text/plain": [
       "tracePath"
      ]
     },
     "metadata": {},
     "output_type": "display_data"
    }
   ],
   "source": [
    "let parsingTraceLogLocation = \"SELECT GC/AllocationTick.AllocationAmount, ProcessName FROM tracePath\"\n",
    "parseTraceLocation parsingTraceLogLocation"
   ]
  },
  {
   "cell_type": "markdown",
   "metadata": {
    "dotnet_interactive": {
     "language": "fsharp"
    }
   },
   "source": [
    "## Parsing Select Columns"
   ]
  },
  {
   "cell_type": "code",
   "execution_count": null,
   "metadata": {
    "dotnet_interactive": {
     "language": "fsharp"
    }
   },
   "outputs": [],
   "source": [
    "let parseSelectColumns (query : string) = \n",
    "    let splitTraceLog = query.Split(\" \", StringSplitOptions.RemoveEmptyEntries ||| StringSplitOptions.TrimEntries)\n",
    "\n",
    "    // precondition checks.\n",
    "    // Check if select is in query.\n",
    "    if splitTraceLog.Length < 1 then invalidArg query $\"Invalid Query without SELECT and FROM commands: {query}\"\n",
    "    elif splitTraceLog.[0].ToLower() <> \"select\" then invalidArg query $\"Invalid Query - SELECT not supplied: {query}\"\n",
    "\n",
    "    let idxOfSelectedColumns = splitTraceLog |> Array.findIndex(fun s -> s.ToLower() = \"from\")\n",
    "    printfn \"%A\" idxOfSelectedColumns\n",
    "    if ( idxOfSelectedColumns = -1 ) then invalidArg query $\"Invalid Query without FROM command to specify trace log file: {query}\"\n",
    "    \n",
    "    printfn \"%A\" splitTraceLog\n",
    "    //let csvSelectColumns = selectColumns.Split(\",\", StringSplitOptions.RemoveEmptyEntries ||| StringSplitOptions.TrimEntries)\n",
    "    //printfn \"%A\" csvSelectColumns \n",
    "    ()"
   ]
  },
  {
   "cell_type": "code",
   "execution_count": null,
   "metadata": {
    "dotnet_interactive": {
     "language": "fsharp"
    }
   },
   "outputs": [
    {
     "name": "stdout",
     "output_type": "stream",
     "text": [
      "5\r\n",
      "[|\"SELECT\"; \"GC/AllocationTick.AllocationAmount,\"; \"ProcessName\"; \"=\";\n",
      "  \"'devenv'\"; \"FROM\"; \"tracePath\"|]\r\n"
     ]
    }
   ],
   "source": [
    "let parseSelectColumns1 = \"SELECT GC/AllocationTick.AllocationAmount, ProcessName  = 'devenv' FROM tracePath\"\n",
    "\n",
    "parseSelectColumns parseSelectColumns1"
   ]
  },
  {
   "cell_type": "code",
   "execution_count": null,
   "metadata": {
    "dotnet_interactive": {
     "language": "fsharp"
    }
   },
   "outputs": [],
   "source": [
    "let parseString (query : string) =\n",
    "    let splitTraceLog = query.Split(\" \", StringSplitOptions.RemoveEmptyEntries ||| StringSplitOptions.TrimEntries)\n",
    "    let rec r (splitTraceLog : list<string>) (acc : list<string>)=\n",
    "        match splitTraceLog with\n",
    "        | \"SELECT\" :: x :: xs | \"select\" :: x :: xs  ->\n",
    "            printfn $\"HERE -- {x} x {xs}\"\n",
    "            // Accumulate conditioners.\n",
    "            r (x :: xs) (x :: acc)\n",
    "        | \"FROM\" :: rest ->\n",
    "            // Process conditioners.\n",
    "            printfn \"%A\" acc\n",
    "            let processed = \n",
    "                acc\n",
    "                |> List.map parseConditioner\n",
    "            printfn \"%A\" processed\n",
    "        | x :: xs ->\n",
    "            printfn \"%A - %A\" x xs\n",
    "            ()\n",
    "    ()"
   ]
  },
  {
   "cell_type": "code",
   "execution_count": null,
   "metadata": {
    "dotnet_interactive": {
     "language": "fsharp"
    }
   },
   "outputs": [],
   "source": [
    "parseString parseSelectColumns1"
   ]
  },
  {
   "cell_type": "code",
   "execution_count": null,
   "metadata": {
    "dotnet_interactive": {
     "language": "fsharp"
    }
   },
   "outputs": [],
   "source": []
  }
 ],
 "metadata": {
  "kernelspec": {
   "display_name": ".NET (F#)",
   "language": "F#",
   "name": ".net-fsharp"
  },
  "language_info": {
   "name": "F#"
  }
 },
 "nbformat": 4,
 "nbformat_minor": 2
}
